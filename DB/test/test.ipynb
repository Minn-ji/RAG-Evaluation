{
 "cells": [
  {
   "cell_type": "code",
   "execution_count": null,
   "id": "9cba0612",
   "metadata": {},
   "outputs": [],
   "source": [
    "import pymongo\n",
    "from pymongo import MongoClient\n"
   ]
  }
 ],
 "metadata": {
  "kernelspec": {
   "display_name": "DB",
   "language": "python",
   "name": "python3"
  },
  "language_info": {
   "name": "python",
   "version": "3.11.11"
  }
 },
 "nbformat": 4,
 "nbformat_minor": 5
}
