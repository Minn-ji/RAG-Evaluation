{
 "cells": [
  {
   "cell_type": "markdown",
   "id": "d216f229",
   "metadata": {},
   "source": [
    "# Load Test Dataset"
   ]
  },
  {
   "cell_type": "code",
   "execution_count": 10,
   "id": "2ac391ef",
   "metadata": {},
   "outputs": [],
   "source": [
    "import pandas as pd\n",
    "from pathlib import Path\n",
    "dataset_name = \"data/new_rag-eval-ko-dataset-public.csv\"\n",
    "path = Path('.').resolve().parent \n",
    "dataset_path = path / dataset_name\n",
    "dataset = pd.read_csv(dataset_path)"
   ]
  },
  {
   "cell_type": "code",
   "execution_count": 11,
   "id": "7e22b41c",
   "metadata": {},
   "outputs": [
    {
     "data": {
      "text/html": [
       "<div>\n",
       "<style scoped>\n",
       "    .dataframe tbody tr th:only-of-type {\n",
       "        vertical-align: middle;\n",
       "    }\n",
       "\n",
       "    .dataframe tbody tr th {\n",
       "        vertical-align: top;\n",
       "    }\n",
       "\n",
       "    .dataframe thead th {\n",
       "        text-align: right;\n",
       "    }\n",
       "</style>\n",
       "<table border=\"1\" class=\"dataframe\">\n",
       "  <thead>\n",
       "    <tr style=\"text-align: right;\">\n",
       "      <th></th>\n",
       "      <th>domain</th>\n",
       "      <th>question</th>\n",
       "      <th>target_answer</th>\n",
       "      <th>target_file_name</th>\n",
       "      <th>target_page_no</th>\n",
       "      <th>context_type</th>\n",
       "    </tr>\n",
       "  </thead>\n",
       "  <tbody>\n",
       "    <tr>\n",
       "      <th>0</th>\n",
       "      <td>public</td>\n",
       "      <td>국세수입 담당부서와 담당자는 누구인가요?</td>\n",
       "      <td>국세수입 담당자는 세제실 주세분석과의 김태경 사무관이 입니다.</td>\n",
       "      <td>(240411보도자료) 재정동향 4월호.pdf</td>\n",
       "      <td>1</td>\n",
       "      <td>table</td>\n",
       "    </tr>\n",
       "    <tr>\n",
       "      <th>1</th>\n",
       "      <td>public</td>\n",
       "      <td>2024년 1월, 2월, 3월 각각의 평균 조달금리와 응찰률이 어떻게 되나요?</td>\n",
       "      <td>2024년 1월의 평균 조달금리는 3.27%, 응찰률은 333이며, 2월의 평균 조...</td>\n",
       "      <td>(240411보도자료) 재정동향 4월호.pdf</td>\n",
       "      <td>4</td>\n",
       "      <td>table</td>\n",
       "    </tr>\n",
       "    <tr>\n",
       "      <th>2</th>\n",
       "      <td>public</td>\n",
       "      <td>2023년에 비해 2027년에 의무지출의 비중이 얼마나 늘어난 것인가?</td>\n",
       "      <td>2.8</td>\n",
       "      <td>2023_2027 국가재정운용계획 주요내용.pdf</td>\n",
       "      <td>10</td>\n",
       "      <td>table</td>\n",
       "    </tr>\n",
       "  </tbody>\n",
       "</table>\n",
       "</div>"
      ],
      "text/plain": [
       "   domain                                     question  \\\n",
       "0  public                       국세수입 담당부서와 담당자는 누구인가요?   \n",
       "1  public  2024년 1월, 2월, 3월 각각의 평균 조달금리와 응찰률이 어떻게 되나요?   \n",
       "2  public      2023년에 비해 2027년에 의무지출의 비중이 얼마나 늘어난 것인가?   \n",
       "\n",
       "                                       target_answer  \\\n",
       "0                 국세수입 담당자는 세제실 주세분석과의 김태경 사무관이 입니다.   \n",
       "1  2024년 1월의 평균 조달금리는 3.27%, 응찰률은 333이며, 2월의 평균 조...   \n",
       "2                                                2.8   \n",
       "\n",
       "              target_file_name  target_page_no context_type  \n",
       "0    (240411보도자료) 재정동향 4월호.pdf               1        table  \n",
       "1    (240411보도자료) 재정동향 4월호.pdf               4        table  \n",
       "2  2023_2027 국가재정운용계획 주요내용.pdf              10        table  "
      ]
     },
     "execution_count": 11,
     "metadata": {},
     "output_type": "execute_result"
    }
   ],
   "source": [
    "dataset.head(3)"
   ]
  },
  {
   "cell_type": "markdown",
   "id": "ab1ea6d5",
   "metadata": {},
   "source": [
    "# Connect VectorDB"
   ]
  },
  {
   "cell_type": "code",
   "execution_count": 12,
   "id": "59a99148",
   "metadata": {},
   "outputs": [],
   "source": [
    "\n",
    "result_base_path = path / \"data/results\"\n",
    "\n",
    "result_base_path.mkdir(exist_ok=True)\n",
    "result_file_name = \"03-01_bmt_result.csv\""
   ]
  },
  {
   "cell_type": "code",
   "execution_count": 16,
   "id": "c16c85ef",
   "metadata": {},
   "outputs": [],
   "source": [
    "from qdrant_client import QdrantClient\n",
    "\n",
    "HOST = \"localhost\"\n",
    "PORT = 6333\n",
    "COLLECTION_NAME = \"RAG_evaluation_test\"\n",
    "\n",
    "DENSE_VECTOR = \"dense\"\n",
    "\n",
    "client = QdrantClient(host=HOST, port=PORT)"
   ]
  },
  {
   "cell_type": "markdown",
   "id": "9aa6d000",
   "metadata": {},
   "source": [
    "# Load Embedding Model and Retrieve"
   ]
  },
  {
   "cell_type": "code",
   "execution_count": 17,
   "id": "701558e5",
   "metadata": {},
   "outputs": [
    {
     "name": "stderr",
     "output_type": "stream",
     "text": [
      "Fetching 30 files: 100%|██████████| 30/30 [00:00<00:00, 336441.50it/s]\n",
      "You're using a XLMRobertaTokenizerFast tokenizer. Please note that with a fast tokenizer, using the `__call__` method is faster than using a method to encode the text followed by a call to the `pad` method to get a padded encoding.\n"
     ]
    },
    {
     "data": {
      "text/plain": [
       "array([-0.0293819 , -0.02064265, -0.05381404, ...,  0.05163255,\n",
       "       -0.00160881,  0.01638607], shape=(1024,), dtype=float32)"
      ]
     },
     "execution_count": 17,
     "metadata": {},
     "output_type": "execute_result"
    }
   ],
   "source": [
    "from embedding import DenseEmbedding\n",
    "\n",
    "dense_model = DenseEmbedding()\n",
    "test_query = \"model loading\"\n",
    "dense_model.query_embed(test_query)"
   ]
  },
  {
   "cell_type": "code",
   "execution_count": 18,
   "id": "6fb348ba",
   "metadata": {},
   "outputs": [
    {
     "name": "stdout",
     "output_type": "stream",
     "text": [
      ">> Complete Question 01 / Latency: 0.1309\n",
      ">> Complete Question 02 / Latency: 0.1832\n",
      ">> Complete Question 03 / Latency: 0.1009\n",
      ">> Complete Question 04 / Latency: 0.7852\n",
      ">> Complete Question 05 / Latency: 0.0859\n",
      ">> Complete Question 06 / Latency: 0.0881\n",
      ">> Complete Question 07 / Latency: 0.0779\n",
      ">> Complete Question 08 / Latency: 0.1508\n",
      ">> Complete Question 09 / Latency: 0.0781\n",
      ">> Complete Question 10 / Latency: 0.0761\n",
      ">> Complete Question 11 / Latency: 0.0871\n",
      ">> Complete Question 12 / Latency: 0.1053\n",
      ">> Complete Question 13 / Latency: 0.0779\n",
      ">> Complete Question 14 / Latency: 0.0749\n",
      ">> Complete Question 15 / Latency: 0.0408\n",
      ">> Complete Question 16 / Latency: 0.0406\n",
      ">> Complete Question 17 / Latency: 0.1179\n",
      ">> Complete Question 18 / Latency: 0.076\n",
      ">> Complete Question 19 / Latency: 0.0785\n",
      ">> Complete Question 20 / Latency: 0.0385\n",
      ">> Complete Question 21 / Latency: 0.074\n",
      ">> Complete Question 22 / Latency: 0.0371\n",
      ">> Complete Question 23 / Latency: 0.0371\n",
      ">> Complete Question 24 / Latency: 0.0758\n",
      ">> Complete Question 25 / Latency: 0.0378\n",
      ">> Complete Question 26 / Latency: 0.0747\n",
      ">> Complete Question 27 / Latency: 0.0763\n",
      ">> Complete Question 28 / Latency: 0.08\n",
      ">> Complete Question 29 / Latency: 0.0769\n",
      ">> Complete Question 30 / Latency: 0.0371\n",
      ">> Complete Question 31 / Latency: 0.1664\n",
      ">> Complete Question 32 / Latency: 0.0796\n",
      ">> Complete Question 33 / Latency: 0.0743\n",
      ">> Complete Question 34 / Latency: 0.0752\n",
      ">> Complete Question 35 / Latency: 0.0372\n",
      ">> Complete Question 36 / Latency: 0.0379\n",
      ">> Complete Question 37 / Latency: 0.0739\n",
      ">> Complete Question 38 / Latency: 0.043\n",
      ">> Complete Question 39 / Latency: 0.0429\n",
      ">> Complete Question 40 / Latency: 0.3689\n",
      ">> Complete Question 41 / Latency: 0.0798\n",
      ">> Complete Question 42 / Latency: 0.0826\n",
      ">> Complete Question 43 / Latency: 0.0964\n",
      ">> Complete Question 44 / Latency: 0.041\n",
      ">> Complete Question 45 / Latency: 0.0378\n",
      ">> Complete Question 46 / Latency: 0.0442\n",
      ">> Complete Question 47 / Latency: 0.0379\n",
      ">> Complete Question 48 / Latency: 0.0362\n",
      ">> Complete Question 49 / Latency: 0.0481\n",
      ">> Complete Question 50 / Latency: 0.038\n"
     ]
    }
   ],
   "source": [
    "from datetime import datetime\n",
    "\n",
    "retrieve_result = {\n",
    "    \"question\": [],\n",
    "    \"target_file_name\": [],\n",
    "    \"target_page_no\": [],\n",
    "    \"latency_secs\": [],\n",
    "    \"retrieved_doc1\": [],\n",
    "    \"retrieved_page1\": [],\n",
    "    \"retrieved_cont1\": [],\n",
    "    \"retrieved_doc2\": [],\n",
    "    \"retrieved_page2\": [],\n",
    "    \"retrieved_cont2\": [],\n",
    "    \"retrieved_doc3\": [],\n",
    "    \"retrieved_page3\": [],\n",
    "    \"retrieved_cont3\": [],\n",
    "    \"retrieved_doc4\": [],\n",
    "    \"retrieved_page4\": [],\n",
    "    \"retrieved_cont4\": [],\n",
    "    \"retrieved_doc5\": [],\n",
    "    \"retrieved_page5\": [],\n",
    "    \"retrieved_cont5\": [],\n",
    "}\n",
    "\n",
    "for idx, query in enumerate(dataset.question):\n",
    "    start_time = datetime.now()\n",
    "    # VectorDB 검색\n",
    "    q_embedding = dense_model.query_embed(query)\n",
    "    results = client.query_points(\n",
    "        collection_name=COLLECTION_NAME,\n",
    "        query=q_embedding,\n",
    "        using=DENSE_VECTOR,\n",
    "        limit=5,\n",
    "    ).model_dump()\n",
    "\n",
    "    retrieve_result[\"question\"].append(query)\n",
    "    retrieve_result[\"target_file_name\"].append(dataset.target_file_name[idx])\n",
    "    retrieve_result[\"target_page_no\"].append(dataset.target_page_no[idx])\n",
    "\n",
    "    # 검색결과저장\n",
    "    for p_idx, point in enumerate(results[\"points\"]):\n",
    "        _payload: dict = point[\"payload\"]\n",
    "        # file_name = _payload[\"file_name\"]\n",
    "        # page = _payload[\"page\"]\n",
    "        # content = _payload[\"content\"]\n",
    "        retrieve_result[f\"retrieved_doc{p_idx + 1}\"].append(_payload[\"file_name\"])\n",
    "        retrieve_result[f\"retrieved_page{p_idx + 1}\"].append(_payload[\"page\"])\n",
    "        retrieve_result[f\"retrieved_cont{p_idx + 1}\"].append(_payload[\"content\"])\n",
    "    end_time = datetime.now()\n",
    "    latency_secs = float(f\"{(end_time - start_time).total_seconds():.4f}\")\n",
    "    retrieve_result[\"latency_secs\"].append(latency_secs)\n",
    "    print(f\">> Complete Question {idx + 1:02} / Latency: {latency_secs}\")\n"
   ]
  },
  {
   "cell_type": "markdown",
   "id": "d409386e",
   "metadata": {},
   "source": [
    "# Retrieve result save to CSV"
   ]
  },
  {
   "cell_type": "code",
   "execution_count": 19,
   "id": "06592a32",
   "metadata": {},
   "outputs": [],
   "source": [
    "import os \n",
    "result_df = pd.DataFrame(retrieve_result)\n",
    "result_df.to_csv(os.path.join(result_base_path, result_file_name), index=None)"
   ]
  },
  {
   "cell_type": "markdown",
   "id": "1c8d3a60",
   "metadata": {},
   "source": [
    "# Evaluate Result"
   ]
  },
  {
   "cell_type": "code",
   "execution_count": 20,
   "id": "2d0379fe",
   "metadata": {},
   "outputs": [],
   "source": [
    "# Load Data\n",
    "result_df = pd.read_csv(os.path.join(result_base_path, result_file_name))\n",
    "\n",
    "# Evaluation\n",
    "limit = 5\n",
    "\n",
    "recalls = []\n",
    "reciprocal_ranks = []\n",
    "\n",
    "for idx in range(result_df.shape[0]):\n",
    "    target_file_name = result_df.target_file_name[idx]\n",
    "    target_page_no = result_df.target_page_no[idx]\n",
    "\n",
    "    for p_idx in range(limit):\n",
    "        rank = p_idx + 1\n",
    "        if (\n",
    "            result_df[f\"retrieved_doc{rank}\"][idx] == target_file_name\n",
    "            and result_df[f\"retrieved_page{rank}\"][idx] == target_page_no\n",
    "        ):\n",
    "            reciprocal_ranks.append(float(f\"{(1 / rank):.2f}\"))\n",
    "            recalls.append(1)\n",
    "            break\n",
    "    else:\n",
    "        reciprocal_ranks.append(0)\n",
    "        recalls.append(0)"
   ]
  },
  {
   "cell_type": "code",
   "execution_count": 21,
   "id": "450d5bae",
   "metadata": {},
   "outputs": [],
   "source": [
    "# 평가 결과 추가\n",
    "result_df[\"recall\"] = recalls\n",
    "result_df[\"reciprocal_rank\"] = reciprocal_ranks"
   ]
  },
  {
   "cell_type": "code",
   "execution_count": 22,
   "id": "06eb7fa5",
   "metadata": {},
   "outputs": [],
   "source": [
    "# 평가 결과를 포함해 다시 저장\n",
    "result_df.to_csv(os.path.join(result_base_path, result_file_name), index=None)"
   ]
  },
  {
   "cell_type": "code",
   "execution_count": 23,
   "id": "12f9c1b4",
   "metadata": {},
   "outputs": [],
   "source": [
    "# 최종평가결과\n",
    "import math\n",
    "\n",
    "\n",
    "def get_cnt_by_ratio(total_len: int, ratio: float = 0.95):\n",
    "    return math.ceil(total_len * ratio)\n",
    "\n",
    "\n",
    "r_95 = get_cnt_by_ratio(len(result_df.latency_secs), 0.95)\n",
    "\n",
    "recall_5 = sum(recalls) / len(recalls)\n",
    "mrr_5 = sum(reciprocal_ranks) / len(reciprocal_ranks)\n",
    "latency_95 = sum(sorted(result_df.latency_secs)[:r_95]) / r_95"
   ]
  },
  {
   "cell_type": "code",
   "execution_count": 24,
   "id": "9d63f588",
   "metadata": {},
   "outputs": [
    {
     "name": "stdout",
     "output_type": "stream",
     "text": [
      "recall_5=0.28\n",
      "mrr_5=0.16\n",
      "latency_95=0.0727\n"
     ]
    }
   ],
   "source": [
    "print(f\"{recall_5=}\")\n",
    "print(f\"{mrr_5=:.2f}\")\n",
    "print(f\"{latency_95=:.4f}\")"
   ]
  }
 ],
 "metadata": {
  "kernelspec": {
   "display_name": ".venv",
   "language": "python",
   "name": "python3"
  },
  "language_info": {
   "codemirror_mode": {
    "name": "ipython",
    "version": 3
   },
   "file_extension": ".py",
   "mimetype": "text/x-python",
   "name": "python",
   "nbconvert_exporter": "python",
   "pygments_lexer": "ipython3",
   "version": "3.12.9"
  }
 },
 "nbformat": 4,
 "nbformat_minor": 5
}
